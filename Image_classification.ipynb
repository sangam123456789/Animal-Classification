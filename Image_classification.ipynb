{
  "nbformat": 4,
  "nbformat_minor": 0,
  "metadata": {
    "colab": {
      "provenance": [],
      "mount_file_id": "1IF8KPeLt_ViX1pIT6ruVoXnzPKRTmW4Q",
      "authorship_tag": "ABX9TyP+xrJe9MlFRiM1d1lqsiYT",
      "include_colab_link": true
    },
    "kernelspec": {
      "name": "python3",
      "display_name": "Python 3"
    },
    "language_info": {
      "name": "python"
    }
  },
  "cells": [
    {
      "cell_type": "markdown",
      "metadata": {
        "id": "view-in-github",
        "colab_type": "text"
      },
      "source": [
        "<a href=\"https://colab.research.google.com/github/sangam123456789/Animal-Classification/blob/main/Image_classification.ipynb\" target=\"_parent\"><img src=\"https://colab.research.google.com/assets/colab-badge.svg\" alt=\"Open In Colab\"/></a>"
      ]
    },
    {
      "cell_type": "code",
      "execution_count": 1,
      "metadata": {
        "id": "uIyikmD2P7_t"
      },
      "outputs": [],
      "source": [
        "import numpy as np\n",
        "import random\n",
        "import matplotlib.pyplot as plt\n",
        "from tensorflow.keras.models import Sequential\n",
        "from tensorflow.keras.layers import Conv2D, MaxPooling2D, Dense, Flatten"
      ]
    },
    {
      "cell_type": "code",
      "source": [
        "X_train = np.loadtxt('input.csv', delimiter = ',')\n",
        "Y_train = np.loadtxt('labels.csv', delimiter = ',')\n",
        "\n",
        "X_test = np.loadtxt('input_test.csv', delimiter = ',')\n",
        "Y_test = np.loadtxt('labels_test.csv', delimiter = ',')"
      ],
      "metadata": {
        "id": "mlaukeKMP93R"
      },
      "execution_count": null,
      "outputs": []
    },
    {
      "cell_type": "code",
      "source": [
        "X_train = X_train.reshape(len(X_train), 100, 100, 3)\n",
        "Y_train = Y_train.reshape(len(Y_train), 1)\n",
        "\n",
        "X_test = X_test.reshape(len(X_test), 100, 100, 3)\n",
        "Y_test = Y_test.reshape(len(Y_test), 1)\n",
        "\n",
        "X_train = X_train/255.0\n",
        "X_test = X_test/255.0"
      ],
      "metadata": {
        "id": "MOfoBfTQQElh"
      },
      "execution_count": null,
      "outputs": []
    },
    {
      "cell_type": "code",
      "source": [
        "print(\"Shape of X_train: \", X_train.shape)\n",
        "print(\"Shape of Y_train: \", Y_train.shape)\n",
        "print(\"Shape of X_test: \", X_test.shape)\n",
        "print(\"Shape of Y_test: \", Y_test.shape)"
      ],
      "metadata": {
        "id": "fPiwtUZIQIKY"
      },
      "execution_count": null,
      "outputs": []
    },
    {
      "cell_type": "code",
      "source": [
        "idx = random.randint(0, len(X_train))\n",
        "plt.imshow(X_train[idx, :])\n",
        "plt.show()"
      ],
      "metadata": {
        "id": "odLp66g-QKcQ"
      },
      "execution_count": null,
      "outputs": []
    },
    {
      "cell_type": "code",
      "source": [
        "model = Sequential([\n",
        "    Conv2D(32, (3,3), activation = 'relu', input_shape = (100, 100, 3)),\n",
        "    MaxPooling2D((2,2)),\n",
        "\n",
        "    Conv2D(32, (3,3), activation = 'relu'),\n",
        "    MaxPooling2D((2,2)),\n",
        "\n",
        "    Flatten(),\n",
        "    Dense(64, activation = 'relu'),\n",
        "    Dense(1, activation = 'sigmoid')\n",
        "])"
      ],
      "metadata": {
        "id": "N5HBDUewQNVv"
      },
      "execution_count": 2,
      "outputs": []
    },
    {
      "cell_type": "code",
      "source": [
        "model = Sequential()\n",
        "\n",
        "model.add(Conv2D(32, (3,3), activation = 'relu', input_shape = (100, 100, 3)))\n",
        "model.add(MaxPooling2D((2,2)))\n",
        "\n",
        "model.add(Conv2D(32, (3,3), activation = 'relu'))\n",
        "model.add(MaxPooling2D((2,2)))\n",
        "\n",
        "model.add(Flatten())\n",
        "model.add(Dense(64, activation = 'relu'))\n",
        "model.add(Dense(1, activation = 'sigmoid'))"
      ],
      "metadata": {
        "id": "eUyTKYHfQQIg"
      },
      "execution_count": 3,
      "outputs": []
    },
    {
      "cell_type": "code",
      "source": [
        "model.compile(loss = 'binary_crossentropy', optimizer = 'adam', metrics = ['accuracy'])"
      ],
      "metadata": {
        "id": "Up45SDMDQS_n"
      },
      "execution_count": null,
      "outputs": []
    },
    {
      "cell_type": "code",
      "source": [
        "model.fit(X_train, Y_train, epochs = 5, batch_size = 64)"
      ],
      "metadata": {
        "id": "7GgJmlexQTmP"
      },
      "execution_count": null,
      "outputs": []
    },
    {
      "cell_type": "code",
      "source": [
        "model.evaluate(X_test, Y_test)"
      ],
      "metadata": {
        "id": "ZJoSYuaEQVc_"
      },
      "execution_count": null,
      "outputs": []
    },
    {
      "cell_type": "code",
      "source": [
        "idx2 = random.randint(0, len(Y_test))\n",
        "plt.imshow(X_test[idx2, :])\n",
        "plt.show()\n",
        "\n",
        "y_pred = model.predict(X_test[idx2, :].reshape(1, 100, 100, 3))\n",
        "y_pred = y_pred > 0.5\n",
        "\n",
        "if(y_pred == 0):\n",
        "    pred = 'dog'\n",
        "else:\n",
        "    pred = 'cat'\n",
        "\n",
        "print(\"Our model says it is a :\", pred)"
      ],
      "metadata": {
        "id": "rSobygkFQZbv"
      },
      "execution_count": null,
      "outputs": []
    }
  ]
}